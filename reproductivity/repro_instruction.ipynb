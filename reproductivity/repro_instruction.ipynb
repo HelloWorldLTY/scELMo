{
 "cells": [
  {
   "cell_type": "markdown",
   "metadata": {},
   "source": [
    "# Figure 1\n",
    "\n",
    "To reproduce figure 1, we utilize draw.io to visualize the model structure."
   ]
  },
  {
   "cell_type": "markdown",
   "metadata": {},
   "source": [
    "# Figure 2"
   ]
  },
  {
   "cell_type": "markdown",
   "metadata": {},
   "source": [
    "To reproduce (a), please refer the folder **Get outputs from LLMs**. For local LLMs, we utilize huggingface for testing.\n",
    "\n",
    "To reproduce (b), please use the package time (import time) or magic instruction (%%time) for testing.\n",
    "\n",
    "To reproduce (c), please refer the folder **Clustering**."
   ]
  },
  {
   "cell_type": "markdown",
   "metadata": {},
   "source": [
    "# Figure 3"
   ]
  },
  {
   "cell_type": "markdown",
   "metadata": {},
   "source": [
    "To reproduce (a)-(d), please refer the folder **Batch Effect Correction**. "
   ]
  },
  {
   "cell_type": "markdown",
   "metadata": {},
   "source": [
    "# Figure 4"
   ]
  },
  {
   "cell_type": "markdown",
   "metadata": {},
   "source": [
    "To reproduce (a)-(c), please refer the folder **In silico treatment**. For (c), we record the output of classifier for comparision."
   ]
  },
  {
   "cell_type": "markdown",
   "metadata": {},
   "source": [
    "# Figure 5"
   ]
  },
  {
   "cell_type": "markdown",
   "metadata": {},
   "source": [
    "To reproduce (a)-(d), please refer the folder **Perturbation Analysis**. For GEARS, the model performance might be affected by random seed, due to the implementation of pyg."
   ]
  },
  {
   "cell_type": "markdown",
   "metadata": {},
   "source": [
    "# Table 1"
   ]
  },
  {
   "cell_type": "markdown",
   "metadata": {},
   "source": [
    "To reproduce Table 1, please refer the folder **Cell-type Annotation** for both zero-shot and fine-tuning setting."
   ]
  }
 ],
 "metadata": {
  "language_info": {
   "name": "python"
  }
 },
 "nbformat": 4,
 "nbformat_minor": 2
}
