{
 "cells": [
  {
   "cell_type": "code",
   "execution_count": null,
   "metadata": {},
   "outputs": [],
   "source": [
    "import numpy as np\n",
    "import scanpy as sc\n",
    "\n",
    "from scib_metrics.benchmark import Benchmarker\n",
    "import scib"
   ]
  },
  {
   "cell_type": "code",
   "execution_count": null,
   "metadata": {},
   "outputs": [],
   "source": [
    "adata = sc.read('/gpfs/gibbs/pi/zhao/tl688/cpsc_finalproject/genept_data/GenePT/protein_data/reference.h5ad')\n",
    "query = sc.read('/gpfs/gibbs/pi/zhao/tl688/cpsc_finalproject/genept_data/GenePT/protein_data/query.h5ad')\n",
    "\n",
    "adata_ref =sc.AnnData(adata.obsm['protein_counts'], obs = adata.obs)\n",
    "adata_que =sc.AnnData(query.obsm['pro_exp'], obs = query.obs)\n",
    "adata_combine = sc.concat([adata_ref, adata_que], keys = ['reference', 'query'])"
   ]
  },
  {
   "cell_type": "code",
   "execution_count": null,
   "metadata": {},
   "outputs": [],
   "source": [
    "import pickle\n",
    "with open('ensem_emb_pro_pbmcseuratv4.pickle', \"rb\") as fp: \n",
    "    GPT_3_5_gene_embeddings = pickle.load(fp)\n",
    "gene_names= adata_combine.var_names\n",
    "count_missing = 0\n",
    "EMBED_DIM = 1536 # embedding dim from GPT-3.5\n",
    "lookup_embed = np.zeros(shape=(len(gene_names),EMBED_DIM))\n",
    "for i, gene in enumerate(gene_names):\n",
    "    if gene in GPT_3_5_gene_embeddings.keys():\n",
    "        lookup_embed[i,:] = GPT_3_5_gene_embeddings[gene].flatten()\n",
    "    else:\n",
    "        count_missing+=1\n",
    "lookup_embed.shape"
   ]
  },
  {
   "cell_type": "code",
   "execution_count": null,
   "metadata": {},
   "outputs": [],
   "source": [
    "sc.pp.filter_cells(adata_combine, min_genes=1) # This dataset contains proteins with expression as 0.\n",
    "adata_combine.obsm['X_proPT'] = adata_combine.X / np.sum(adata_combine.X, axis=1)[:,None]  @ lookup_embed #GPT 3.5 wa"
   ]
  },
  {
   "cell_type": "code",
   "execution_count": null,
   "metadata": {},
   "outputs": [],
   "source": [
    "results = scib.metrics.metrics(\n",
    "    adata,\n",
    "    adata_int=adata,\n",
    "    batch_key=\"dataset_name\",\n",
    "    label_key=\"celltype.l2\",\n",
    "    embed='X_proPT',\n",
    "    isolated_labels_asw_=False,\n",
    "    silhouette_=True,\n",
    "    hvg_score_=False,\n",
    "    graph_conn_=True,\n",
    "    pcr_=True,\n",
    "    isolated_labels_f1_=False,\n",
    "    trajectory_=False,\n",
    "    nmi_=True,  # use the clustering, bias to the best matching\n",
    "    ari_=True,  # use the clustering, bias to the best matching\n",
    "    cell_cycle_=False,\n",
    "    kBET_=True,  # kBET return nan sometimes, need to examine\n",
    "    ilisi_=True,\n",
    "    clisi_=True,\n",
    ")"
   ]
  },
  {
   "cell_type": "code",
   "execution_count": null,
   "metadata": {},
   "outputs": [],
   "source": [
    "results"
   ]
  },
  {
   "cell_type": "code",
   "execution_count": null,
   "metadata": {},
   "outputs": [],
   "source": []
  }
 ],
 "metadata": {
  "language_info": {
   "name": "python"
  }
 },
 "nbformat": 4,
 "nbformat_minor": 2
}
