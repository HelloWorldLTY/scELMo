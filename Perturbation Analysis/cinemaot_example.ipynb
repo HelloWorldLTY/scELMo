{
 "cells": [
  {
   "cell_type": "code",
   "execution_count": null,
   "metadata": {},
   "outputs": [],
   "source": [
    "import numpy as np\n",
    "import scanpy as sc\n",
    "import pickle\n",
    "from scib_metrics.benchmark import Benchmarker\n",
    "import scib"
   ]
  },
  {
   "cell_type": "code",
   "execution_count": null,
   "metadata": {},
   "outputs": [],
   "source": [
    "import CINEMAOT as cnm"
   ]
  },
  {
   "cell_type": "code",
   "execution_count": null,
   "metadata": {},
   "outputs": [],
   "source": [
    "adata = sc.read_h5ad('/gpfs/gibbs/pi/zhao/tl688/cpsc_finalproject/genept_data/GenePT/cinemaot_data/Integrated_subset.h5ad')\n",
    "adata_raw = sc.AnnData(adata.raw.X, obs = adata.obs, var = adata.raw.var)"
   ]
  },
  {
   "cell_type": "code",
   "execution_count": null,
   "metadata": {},
   "outputs": [],
   "source": [
    "pert_cond = 'IFNg' # modify it for different perturbation cases."
   ]
  },
  {
   "cell_type": "code",
   "execution_count": null,
   "metadata": {},
   "outputs": [],
   "source": [
    "# adata_raw = adata_raw[:, adata.var_names]\n",
    "sc.pp.highly_variable_genes(adata_raw, n_top_genes=500) # users can modify the number of genes here\n",
    "adata_raw = adata_raw[:, adata_raw.var.highly_variable]\n",
    "\n",
    "adata_ = adata_raw[adata_raw.obs['perturbation'].isin(['No stimulation', pert_cond])]\n",
    "\n",
    "with open(\"/gpfs/gibbs/pi/zhao/tl688/GenePT/data_embedding/GPT_3_5_gene_embeddings.pickle\", \"rb\") as fp:\n",
    "    GPT_3_5_gene_embeddings = pickle.load(fp)\n",
    "gene_names= list(adata_.var.index)\n",
    "count_missing = 0\n",
    "EMBED_DIM = 1536 # embedding dim from GPT-3.5\n",
    "lookup_embed = np.zeros(shape=(len(gene_names),EMBED_DIM))\n",
    "for i, gene in enumerate(gene_names):\n",
    "    if gene in GPT_3_5_gene_embeddings:\n",
    "        lookup_embed[i,:] = GPT_3_5_gene_embeddings[gene].flatten()\n",
    "    else:\n",
    "        count_missing+=1\n",
    "# lookup_embed = np.random.rand(lookup_embed.shape[0], lookup_embed.shape[1])\n",
    "# genePT_w_emebed = np.dot(adata_.X,lookup_embed)/len(gene_names)\n",
    "genePT_w_emebed = adata_.X @ lookup_embed/len(gene_names)\n",
    "print(f\"Unable to match {count_missing} out of {len(gene_names)} genes in the GenePT-w embedding\")\n"
   ]
  },
  {
   "cell_type": "code",
   "execution_count": null,
   "metadata": {},
   "outputs": [],
   "source": [
    "adata_.obsm['X_pca'] = genePT_w_emebed # replace the PCs using gpt 3.5 embeddings\n"
   ]
  },
  {
   "cell_type": "code",
   "execution_count": null,
   "metadata": {},
   "outputs": [],
   "source": [
    "cf, ot, de = cnm.cinemaot.cinemaot_unweighted(adata_,obs_label='perturbation', ref_label=pert_cond, expr_label='No stimulation',mode='parametric',thres=0.5,smoothness=1e-5,eps=1e-3,preweight_label='cell_type0528')\n",
    "\n",
    "adata_.obsm['cf'] = cf.copy()\n",
    "adata_.obsm['cf'][adata_.obs['perturbation']==pert_cond,:] = np.matmul(ot/np.sum(ot,axis=1)[:,None],cf[adata_.obs['perturbation']=='No stimulation',:])\n",
    "sc.pp.neighbors(adata_,use_rep='cf')\n",
    "\n",
    "sc.tl.umap(adata_,random_state=1)\n",
    "sc.pl.umap(adata_,color=['perturbation','cell_type0528'],wspace=0.5, save = f'cinemaot_pbmc_cf_{pert_cond}_genept.pdf', palette='tab20c')"
   ]
  },
  {
   "cell_type": "code",
   "execution_count": null,
   "metadata": {},
   "outputs": [],
   "source": [
    "results = scib.metrics.metrics(\n",
    "    adata_,\n",
    "    adata_int=adata_,\n",
    "    batch_key=\"perturbation\",\n",
    "    label_key=\"cell_type0528\",\n",
    "    embed=\"cf\",\n",
    "    isolated_labels_asw_=True,\n",
    "    silhouette_=True,\n",
    "    hvg_score_=False,\n",
    "    graph_conn_=True,\n",
    "    pcr_=True,\n",
    "    isolated_labels_f1_=False,\n",
    "    trajectory_=False,\n",
    "    nmi_=True,  # use the clustering, bias to the best matching\n",
    "    ari_=True,  # use the clustering, bias to the best matching\n",
    "    cell_cycle_=False,\n",
    "    kBET_=False,  # kBET return nan sometimes, need to examine\n",
    "    ilisi_=True,\n",
    "    clisi_=True,\n",
    ")"
   ]
  },
  {
   "cell_type": "code",
   "execution_count": null,
   "metadata": {},
   "outputs": [],
   "source": [
    "results"
   ]
  }
 ],
 "metadata": {
  "language_info": {
   "name": "python"
  }
 },
 "nbformat": 4,
 "nbformat_minor": 2
}
