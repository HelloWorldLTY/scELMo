{
 "cells": [
  {
   "cell_type": "code",
   "execution_count": null,
   "metadata": {},
   "outputs": [],
   "source": [
    "import sys\n",
    "\n",
    "from sklearn.metrics import r2_score\n",
    "import numpy as np\n",
    "\n",
    "import os\n",
    "# os.chdir('/home/mohsen/projects/cpa/')\n",
    "# os.environ['CUDA_VISIBLE_DEVICES'] = '0'\n",
    "\n",
    "import cpa\n",
    "import scanpy as sc"
   ]
  },
  {
   "cell_type": "code",
   "execution_count": null,
   "metadata": {},
   "outputs": [],
   "source": [
    "sc.settings.set_figure_params(dpi=100)\n",
    "\n",
    "data_path = './combo_sciplex_prep_hvg_filtered.h5ad'"
   ]
  },
  {
   "cell_type": "code",
   "execution_count": null,
   "metadata": {},
   "outputs": [],
   "source": [
    "try:\n",
    "    adata = sc.read(data_path)\n",
    "except:\n",
    "    import gdown\n",
    "    gdown.download('https://drive.google.com/uc?export=download&id=1RRV0_qYKGTvD3oCklKfoZQFYqKJy4l6t')\n",
    "    data_path = 'combo_sciplex_prep_hvg_filtered.h5ad'\n",
    "    adata = sc.read(data_path)\n",
    "\n",
    "adata"
   ]
  },
  {
   "cell_type": "code",
   "execution_count": null,
   "metadata": {},
   "outputs": [],
   "source": [
    "adata.obs['split_1ct_MEC'].value_counts()\n",
    "\n",
    "adata.X = adata.layers['counts'].copy()\n",
    "\n",
    "cpa.CPA.setup_anndata(adata,\n",
    "                      perturbation_key='condition_ID',\n",
    "                      dosage_key='log_dose',\n",
    "                      control_group='CHEMBL504',\n",
    "                      batch_key=None,\n",
    "                      is_count_data=True,\n",
    "                      categorical_covariate_keys=['cell_type'],\n",
    "                      deg_uns_key='rank_genes_groups_cov',\n",
    "                      deg_uns_cat_key='cov_drug_dose',\n",
    "                      max_comb_len=2,\n",
    "                     )"
   ]
  },
  {
   "cell_type": "code",
   "execution_count": null,
   "metadata": {},
   "outputs": [],
   "source": [
    "ae_hparams = {\n",
    "    \"n_latent\": 1536,\n",
    "    \"recon_loss\": \"nb\",\n",
    "    \"doser_type\": \"logsigm\",\n",
    "    \"n_hidden_encoder\": 512,\n",
    "    \"n_layers_encoder\": 3,\n",
    "    \"n_hidden_decoder\": 512,\n",
    "    \"n_layers_decoder\": 3,\n",
    "    \"use_batch_norm_encoder\": True,\n",
    "    \"use_layer_norm_encoder\": False,\n",
    "    \"use_batch_norm_decoder\": True,\n",
    "    \"use_layer_norm_decoder\": False,\n",
    "    \"dropout_rate_encoder\": 0.1,\n",
    "    \"dropout_rate_decoder\": 0.1,\n",
    "    \"variational\": False,\n",
    "    \"seed\": 434,\n",
    "}\n",
    "\n",
    "trainer_params = {\n",
    "    \"n_epochs_kl_warmup\": None,\n",
    "    \"n_epochs_pretrain_ae\": 30,\n",
    "    \"n_epochs_adv_warmup\": 50,\n",
    "    \"n_epochs_mixup_warmup\": 3,\n",
    "    \"mixup_alpha\": 0.1,\n",
    "    \"adv_steps\": 2,\n",
    "    \"n_hidden_adv\": 64,\n",
    "    \"n_layers_adv\": 2,\n",
    "    \"use_batch_norm_adv\": True,\n",
    "    \"use_layer_norm_adv\": False,\n",
    "    \"dropout_rate_adv\": 0.3,\n",
    "    \"reg_adv\": 20.0,\n",
    "    \"pen_adv\": 20.0,\n",
    "    \"lr\": 0.0003,\n",
    "    \"wd\": 4e-07,\n",
    "    \"adv_lr\": 0.0003,\n",
    "    \"adv_wd\": 4e-07,\n",
    "    \"adv_loss\": \"cce\",\n",
    "    \"doser_lr\": 0.0003,\n",
    "    \"doser_wd\": 4e-07,\n",
    "    \"do_clip_grad\": False,\n",
    "    \"gradient_clip_value\": 1.0,\n",
    "    \"step_size_lr\": 45,\n",
    "}"
   ]
  },
  {
   "cell_type": "code",
   "execution_count": null,
   "metadata": {},
   "outputs": [],
   "source": [
    "adata.var_names = adata.var['symbol-0'].values # important, change the ensemble id to gene name.\n",
    "\n",
    "import pickle\n",
    "with open(\"/gpfs/gibbs/pi/zhao/tl688/cpsc_finalproject/genept_data/GenePT/ensem_emb_gpt3.5all.pickle\", \"rb\") as fp:\n",
    "    GPT_3_5_gene_embeddings = pickle.load(fp)\n",
    "gene_names= list(adata.var.index)\n",
    "count_missing = 0\n",
    "EMBED_DIM = 1536 # embedding dim from GPT-3.5\n",
    "lookup_embed = np.zeros(shape=(len(gene_names),EMBED_DIM))\n",
    "for i, gene in enumerate(gene_names):\n",
    "    if gene in GPT_3_5_gene_embeddings:\n",
    "        lookup_embed[i,:] = GPT_3_5_gene_embeddings[gene].flatten()\n",
    "    else:\n",
    "        count_missing+=1\n",
    "# lookup_embed = np.random.rand(lookup_embed.shape[0], lookup_embed.shape[1])\n",
    "# genePT_w_emebed = np.dot(adata.X,lookup_embed)/len(gene_names)\n",
    "genePT_w_emebed = adata.X @ lookup_embed/len(gene_names)\n",
    "# genePT_w_emebed = adata.X @ lookup_embed\n",
    "print(f\"Unable to match {count_missing} out of {len(gene_names)} genes in the GenePT-w embedding\")"
   ]
  },
  {
   "cell_type": "code",
   "execution_count": null,
   "metadata": {},
   "outputs": [],
   "source": [
    "model = cpa.CPA(adata=adata,\n",
    "                split_key='split_1ct_MEC',\n",
    "                train_split='train',\n",
    "                valid_split='valid',\n",
    "                test_split='ood',\n",
    "                gene_embeddings = lookup_embed, # add the embeddings\n",
    "                use_gene_emb = True,\n",
    "                **ae_hparams,\n",
    "               )"
   ]
  },
  {
   "cell_type": "code",
   "execution_count": null,
   "metadata": {},
   "outputs": [],
   "source": [
    "model.train(max_epochs=20,\n",
    "            use_gpu=True,\n",
    "            batch_size=128,\n",
    "            plan_kwargs=trainer_params,\n",
    "            early_stopping_patience=10,\n",
    "            check_val_every_n_epoch=5,\n",
    "            save_path='./cpa_out_gpt35/',\n",
    "           )"
   ]
  },
  {
   "cell_type": "code",
   "execution_count": null,
   "metadata": {},
   "outputs": [],
   "source": [
    "# to load model\n",
    "# model = cpa.CPA.load(dir_path='/gpfs/gibbs/pi/zhao/tl688/cpsc_finalproject/genept_data/GenePT/cpa_out_gemb_new/',\n",
    "#                      adata=adata, use_gpu=True)"
   ]
  },
  {
   "cell_type": "code",
   "execution_count": null,
   "metadata": {},
   "outputs": [],
   "source": [
    "cpa.pl.plot_history(model)"
   ]
  },
  {
   "cell_type": "code",
   "execution_count": null,
   "metadata": {},
   "outputs": [],
   "source": [
    "## Latent space UMAP visualization\n",
    "latent_outputs = model.get_latent_representation(adata, batch_size=1024)\n",
    "\n",
    "sc.settings.verbosity = 3\n",
    "\n",
    "latent_basal_adata = latent_outputs['latent_basal']\n",
    "latent_adata = latent_outputs['latent_after']\n",
    "\n",
    "sc.pp.neighbors(latent_basal_adata)\n",
    "sc.tl.umap(latent_basal_adata)\n",
    "\n",
    "\n",
    "sc.pl.umap(latent_basal_adata, color=['condition_ID'], frameon=False, wspace=0.2)"
   ]
  },
  {
   "cell_type": "code",
   "execution_count": null,
   "metadata": {},
   "outputs": [],
   "source": [
    "\n",
    "sc.pp.neighbors(latent_adata)\n",
    "sc.tl.umap(latent_adata)\n",
    "\n",
    "sc.pl.umap(latent_adata, color=['condition_ID'], frameon=False, wspace=0.2)"
   ]
  },
  {
   "cell_type": "code",
   "execution_count": null,
   "metadata": {},
   "outputs": [],
   "source": [
    "#save data\n",
    "latent_basal_adata.write_h5ad(\"cpa_geneptnew_example_basal.h5ad\")\n",
    "\n",
    "latent_adata.write_h5ad(\"cpa_geneptnew_example_perturb.h5ad\")"
   ]
  },
  {
   "cell_type": "markdown",
   "metadata": {},
   "source": [
    "# Make prediction"
   ]
  },
  {
   "cell_type": "code",
   "execution_count": null,
   "metadata": {},
   "outputs": [],
   "source": [
    "model.predict(adata, batch_size=1024)\n",
    "adata.var_names = adata.var['ensembl_id-0'].values"
   ]
  },
  {
   "cell_type": "code",
   "execution_count": null,
   "metadata": {},
   "outputs": [],
   "source": [
    "import numpy as np\n",
    "import pandas as pd\n",
    "from sklearn.metrics import r2_score\n",
    "from collections import defaultdict\n",
    "from tqdm import tqdm\n",
    "\n",
    "n_top_degs = [10, 20, 50, None] # None means all genes\n",
    "\n",
    "results = defaultdict(list)\n",
    "ctrl_adata = adata[adata.obs['condition_ID'] == 'CHEMBL504'].copy()\n",
    "for cat in tqdm(adata.obs['cov_drug_dose'].unique()):\n",
    "    if 'CHEMBL504' not in cat:\n",
    "        cat_adata = adata[adata.obs['cov_drug_dose'] == cat].copy()\n",
    "\n",
    "        deg_cat = f'{cat}'\n",
    "        deg_list = adata.uns['rank_genes_groups_cov'][deg_cat]\n",
    "\n",
    "        x_true = cat_adata.layers['counts'].toarray()\n",
    "        x_pred = cat_adata.obsm['CPA_pred']\n",
    "        x_ctrl = ctrl_adata.layers['counts'].toarray()\n",
    "\n",
    "        x_true = np.log1p(x_true)\n",
    "        x_pred = np.log1p(x_pred)\n",
    "        x_ctrl = np.log1p(x_ctrl)\n",
    "\n",
    "        for n_top_deg in n_top_degs:\n",
    "            if n_top_deg is not None:\n",
    "                degs = np.where(np.isin(adata.var_names, deg_list[:n_top_deg]))[0]\n",
    "            else:\n",
    "                degs = np.arange(adata.n_vars)\n",
    "                n_top_deg = 'all'\n",
    "\n",
    "            x_true_deg = x_true[:, degs]\n",
    "            x_pred_deg = x_pred[:, degs]\n",
    "            x_ctrl_deg = x_ctrl[:, degs]\n",
    "\n",
    "            r2_mean_deg = r2_score(x_true_deg.mean(0), x_pred_deg.mean(0))\n",
    "            r2_var_deg = r2_score(x_true_deg.var(0), x_pred_deg.var(0))\n",
    "\n",
    "            r2_mean_lfc_deg = r2_score(x_true_deg.mean(0) - x_ctrl_deg.mean(0), x_pred_deg.mean(0) - x_ctrl_deg.mean(0))\n",
    "            r2_var_lfc_deg = r2_score(x_true_deg.var(0) - x_ctrl_deg.var(0), x_pred_deg.var(0) - x_ctrl_deg.var(0))\n",
    "\n",
    "            cov, cond, dose = cat.split('_')\n",
    "\n",
    "            results['cell_type'].append(cov)\n",
    "            results['condition'].append(cond)\n",
    "            results['dose'].append(dose)\n",
    "            results['n_top_deg'].append(n_top_deg)\n",
    "            results['r2_mean_deg'].append(r2_mean_deg)\n",
    "            results['r2_var_deg'].append(r2_var_deg)\n",
    "            results['r2_mean_lfc_deg'].append(r2_mean_lfc_deg)\n",
    "            results['r2_var_lfc_deg'].append(r2_var_lfc_deg)\n",
    "\n",
    "df = pd.DataFrame(results)"
   ]
  },
  {
   "cell_type": "code",
   "execution_count": null,
   "metadata": {},
   "outputs": [],
   "source": [
    "df[df['n_top_deg'] == 20]"
   ]
  },
  {
   "cell_type": "code",
   "execution_count": null,
   "metadata": {},
   "outputs": [],
   "source": [
    "for cat in adata.obs[\"cov_drug_dose\"].unique():\n",
    "    if \"CHEMBL504\" not in cat:\n",
    "        cat_adata = adata[adata.obs[\"cov_drug_dose\"] == cat].copy()\n",
    "\n",
    "        cat_adata.X = np.log1p(cat_adata.layers[\"counts\"].A)\n",
    "        cat_adata.obsm[\"CPA_pred\"] = np.log1p(cat_adata.obsm[\"CPA_pred\"])\n",
    "\n",
    "        deg_list = adata.uns[\"rank_genes_groups_cov\"][f'{cat}'][:20]\n",
    "\n",
    "        print(cat, f\"{cat_adata.shape}\")\n",
    "        cpa.pl.mean_plot(\n",
    "            cat_adata,\n",
    "            pred_obsm_key=\"CPA_pred\",\n",
    "            path_to_save=None,\n",
    "            deg_list=deg_list,\n",
    "            # gene_list=deg_list[:5],\n",
    "            show=True,\n",
    "            verbose=True,\n",
    "        )"
   ]
  },
  {
   "cell_type": "markdown",
   "metadata": {},
   "source": [
    "# Display drug information"
   ]
  },
  {
   "cell_type": "code",
   "execution_count": null,
   "metadata": {},
   "outputs": [],
   "source": [
    "cpa_api = cpa.ComPertAPI(adata, model,\n",
    "                         de_genes_uns_key='rank_genes_groups_cov',\n",
    "                         pert_category_key='cov_drug_dose',\n",
    "                         control_group='CHEMBL504',\n",
    "                         )"
   ]
  },
  {
   "cell_type": "code",
   "execution_count": null,
   "metadata": {},
   "outputs": [],
   "source": [
    "cpa_plots = cpa.pl.CompertVisuals(cpa_api, fileprefix=None)"
   ]
  },
  {
   "cell_type": "code",
   "execution_count": null,
   "metadata": {},
   "outputs": [],
   "source": [
    "drug_adata = cpa_api.get_pert_embeddings()\n",
    "drug_adata.shape"
   ]
  },
  {
   "cell_type": "code",
   "execution_count": null,
   "metadata": {},
   "outputs": [],
   "source": [
    "cpa_plots.plot_latent_embeddings(drug_adata.X, kind='perturbations', titlename='Drugs')"
   ]
  }
 ],
 "metadata": {
  "language_info": {
   "name": "python"
  }
 },
 "nbformat": 4,
 "nbformat_minor": 2
}
