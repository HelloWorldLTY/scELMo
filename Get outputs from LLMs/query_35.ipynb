{
 "cells": [
  {
   "cell_type": "code",
   "execution_count": null,
   "metadata": {},
   "outputs": [],
   "source": [
    "import pandas as pd\n",
    "\n",
    "import openai\n",
    "import time\n",
    "delay_sec = 5\n",
    "# remember to set your open AI API key!\n",
    "openai.api_key = '' #replace it with your own API\n",
    "\n",
    "import numpy as np\n",
    "import pickle\n",
    "\n",
    "EMBED_DIM = 1536 # embedding dim from GPT-3.5\n",
    "lookup_embed = np.zeros(shape=(len(gene_all),EMBED_DIM))\n",
    "\n",
    "def get_gpt_embedding(text, model=\"text-embedding-ada-002\"):\n",
    "    text = text.replace(\"\\n\", \" \")\n",
    "    return np.array(openai.Embedding.create(input = [text], model=model)['data'][0]['embedding'])"
   ]
  },
  {
   "cell_type": "code",
   "execution_count": null,
   "metadata": {},
   "outputs": [],
   "source": [
    "gene_name_to_GPT_response = {}\n",
    "gene_name_getembedding = {}"
   ]
  },
  {
   "cell_type": "code",
   "execution_count": null,
   "metadata": {},
   "outputs": [],
   "source": [
    "df = pd.read_csv(\"gpt_ncbi_allgene.csv\", index_col = 0) # load gene name, modify this pathway is acceptable. If the name is in ensemble id format, using mygene to transfer the format.\n",
    "gene_all = list(df['gene'].values)"
   ]
  },
  {
   "cell_type": "code",
   "execution_count": null,
   "metadata": {},
   "outputs": [],
   "source": [
    "gene_completion_test = gene_all\n",
    "for gene in gene_completion_test:\n",
    "    print(gene)\n",
    "    try:\n",
    "        completion = openai.ChatCompletion.create(model=\"gpt-3.5-turbo-1106\", \n",
    "                    messages=[{\"role\": \"user\", \n",
    "                               \"content\": f\"Please summarize the major function of gene: {gene}. Use academic language in one paragraph and include pathway information.\"}]) # replace the prompt for different metadata.\n",
    "        gene_name_to_GPT_response[gene] = completion.choices[0].message.content\n",
    "        gene_name_getembedding[gene] = get_gpt_embedding(gene_name_to_GPT_response[gene])\n",
    "        time.sleep(1)\n",
    "    except (openai.APIError, \n",
    "                    openai.error.APIError, \n",
    "                    openai.error.APIConnectionError, \n",
    "                    openai.error.RateLimitError, \n",
    "                    openai.error.ServiceUnavailableError, \n",
    "                    openai.error.Timeout) as e:\n",
    "        #Handle API error here, e.g. retry or log\n",
    "        print(f\"OpenAI API returned an API Error: {e}\")\n",
    "        pass"
   ]
  },
  {
   "cell_type": "code",
   "execution_count": null,
   "metadata": {},
   "outputs": [],
   "source": [
    "\n",
    "with open('ensem_describe.pickle', 'wb') as handle:\n",
    "    pickle.dump(gene_name_to_GPT_response, handle, protocol=pickle.HIGHEST_PROTOCOL)\n",
    "    \n",
    "with open('ensem_emb_35.pickle', 'wb') as handle:\n",
    "    pickle.dump(gene_name_getembedding, handle, protocol=pickle.HIGHEST_PROTOCOL)"
   ]
  },
  {
   "cell_type": "code",
   "execution_count": null,
   "metadata": {},
   "outputs": [],
   "source": []
  }
 ],
 "metadata": {
  "language_info": {
   "name": "python"
  }
 },
 "nbformat": 4,
 "nbformat_minor": 2
}
